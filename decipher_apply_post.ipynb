{
 "cells": [
  {
   "cell_type": "markdown",
   "metadata": {},
   "source": [
    "1) http://flask-decipher-test.eba-iya5hnpv.ap-northeast-2.elasticbeanstalk.com/api/seed  \n",
    "2) http://flask-decipher-test.eba-iya5hnpv.ap-northeast-2.elasticbeanstalk.com/api"
   ]
  },
  {
   "cell_type": "code",
   "execution_count": 35,
   "metadata": {},
   "outputs": [],
   "source": [
    "import requests, json"
   ]
  },
  {
   "cell_type": "code",
   "execution_count": 44,
   "metadata": {},
   "outputs": [],
   "source": [
    "url_1 = \"http://flask-decipher-test.eba-iya5hnpv.ap-northeast-2.elasticbeanstalk.com/api/seed\"\n",
    "data_1 = {\n",
    "            \"name\": \"HyeogjinPark\",\n",
    "            \"age\": 28\n",
    "}"
   ]
  },
  {
   "cell_type": "code",
   "execution_count": 45,
   "metadata": {},
   "outputs": [],
   "source": [
    "res = requests.post(url_1, json = data_1)"
   ]
  },
  {
   "cell_type": "code",
   "execution_count": 46,
   "metadata": {},
   "outputs": [
    {
     "data": {
      "text/plain": [
       "'Your seed : 3a0d2e0d481acddd771de19d2f79fc9ece665c4a978513ef335f62d05c6e2f5d7762c58ab4a4d41fc2da45b1370e22a7b7a93bc4627d086e96ac146556edfaf1'"
      ]
     },
     "execution_count": 46,
     "metadata": {},
     "output_type": "execute_result"
    }
   ],
   "source": [
    "res.text"
   ]
  },
  {
   "cell_type": "markdown",
   "metadata": {},
   "source": [
    "seed: 3a0d2e0d481acddd771de19d2f79fc9ece665c4a978513ef335f62d05c6e2f5d7762c58ab4a4d41fc2da45b1370e22a7b7a93bc4627d086e96ac146556edfaf1"
   ]
  },
  {
   "cell_type": "code",
   "execution_count": 48,
   "metadata": {},
   "outputs": [],
   "source": [
    "url_2 = \"http://flask-decipher-test.eba-iya5hnpv.ap-northeast-2.elasticbeanstalk.com/api\"\n",
    "data_2 = {\n",
    "            \"jsonrpc\": \"2.0\",\n",
    "            \"method\": \"genUniqueID\",\n",
    "            \"params\": {\"name\": \"HyeogjinPark\", \"age\": 28, \"seed\": \"3a0d2e0d481acddd771de19d2f79fc9ece665c4a978513ef335f62d05c6e2f5d7762c58ab4a4d41fc2da45b1370e22a7b7a93bc4627d086e96ac146556edfaf1\"},\n",
    "            \"id\": 202108\n",
    "}"
   ]
  },
  {
   "cell_type": "code",
   "execution_count": 49,
   "metadata": {},
   "outputs": [],
   "source": [
    "res = requests.post(url_2, json = data_2)"
   ]
  },
  {
   "cell_type": "code",
   "execution_count": 50,
   "metadata": {},
   "outputs": [
    {
     "data": {
      "text/plain": [
       "200"
      ]
     },
     "execution_count": 50,
     "metadata": {},
     "output_type": "execute_result"
    }
   ],
   "source": [
    "res.status_code"
   ]
  },
  {
   "cell_type": "code",
   "execution_count": 51,
   "metadata": {},
   "outputs": [
    {
     "data": {
      "text/plain": [
       "'{\"id\":202108,\"jsonrpc\":\"2.0\",\"result\":\"Success!!! Your ID : 4c17962cc8aba650_1628753909\"}\\n'"
      ]
     },
     "execution_count": 51,
     "metadata": {},
     "output_type": "execute_result"
    }
   ],
   "source": [
    "res.text"
   ]
  },
  {
   "cell_type": "code",
   "execution_count": null,
   "metadata": {},
   "outputs": [],
   "source": []
  }
 ],
 "metadata": {
  "kernelspec": {
   "display_name": "Python 3",
   "language": "python",
   "name": "python3"
  },
  "language_info": {
   "codemirror_mode": {
    "name": "ipython",
    "version": 3
   },
   "file_extension": ".py",
   "mimetype": "text/x-python",
   "name": "python",
   "nbconvert_exporter": "python",
   "pygments_lexer": "ipython3",
   "version": "3.8.5"
  }
 },
 "nbformat": 4,
 "nbformat_minor": 4
}
