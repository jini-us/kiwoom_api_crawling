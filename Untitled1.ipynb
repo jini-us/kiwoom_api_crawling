{
 "cells": [
  {
   "cell_type": "code",
   "execution_count": 41,
   "metadata": {},
   "outputs": [],
   "source": [
    "def check_palindrom(s):\n",
    "    for i in range(int(len(s)/2)):\n",
    "        if s[i]!=s[-1-i]:\n",
    "            return False\n",
    "    return True"
   ]
  },
  {
   "cell_type": "code",
   "execution_count": 104,
   "metadata": {},
   "outputs": [],
   "source": [
    "test_s = \"cbbd\""
   ]
  },
  {
   "cell_type": "code",
   "execution_count": null,
   "metadata": {},
   "outputs": [],
   "source": [
    "            print(\"center_idx: \" + str(center_idx) + \", left: \" + str(left) + \", right: \" + str(right))\n"
   ]
  },
  {
   "cell_type": "code",
   "execution_count": 107,
   "metadata": {},
   "outputs": [],
   "source": [
    "def longestPalindrome(s: str) -> str:\n",
    "    start_center_idx = int(len(s)/2)\n",
    "    longest_palindrom = s[start_center_idx]\n",
    "    max_length = 1\n",
    "\n",
    "    # 홀수 왼쪽으로\n",
    "    for center_idx in range(start_center_idx, -1, -1):\n",
    "        plus_minus = 1\n",
    "        while(True):\n",
    "            \n",
    "            left = center_idx-plus_minus\n",
    "            right = center_idx+plus_minus\n",
    "            if left<0 or right>=len(s) or s[left]!=s[right]:\n",
    "                break\n",
    "\n",
    "            max_sub_palindrom = s[left:right+1]\n",
    "            if len(max_sub_palindrom)>max_length:\n",
    "                max_length = len(max_sub_palindrom)\n",
    "                longest_palindrom = max_sub_palindrom\n",
    "            plus_minus+=1\n",
    "\n",
    "    # 홀수 오른쪽으로\n",
    "    for center_idx in range(start_center_idx+1, len(s)):\n",
    "        plus_minus = 1\n",
    "        while(True):\n",
    "            left = center_idx-plus_minus\n",
    "            right = center_idx+plus_minus\n",
    "            if left<0 or right>=len(s) or s[left]!=s[right]:\n",
    "                break\n",
    "            \n",
    "            max_sub_palindrom = s[left:right+1]\n",
    "            if len(max_sub_palindrom)>max_length:\n",
    "                max_length = len(max_sub_palindrom)\n",
    "                longest_palindrom = max_sub_palindrom\n",
    "            plus_minus+=1\n",
    "\n",
    "    # 짝수 왼쪽으로\n",
    "    for center_idx in range(start_center_idx, -1, -1):\n",
    "        if center_idx+1>=len(s) or s[center_idx]!=s[center_idx+1]:\n",
    "            continue\n",
    "        if max_length==1:\n",
    "            max_length=2\n",
    "            longest_palindrom = s[center_idx:center_idx+2]\n",
    "        plus_minus = 1\n",
    "        while(True):\n",
    "            left = center_idx-plus_minus\n",
    "            right = center_idx+1+plus_minus\n",
    "\n",
    "            if left<0 or right>=len(s) or s[left]!=s[right]:\n",
    "                break\n",
    "            \n",
    "            max_sub_palindrom = s[left:right+1]\n",
    "            if len(max_sub_palindrom)>max_length:\n",
    "                max_length = len(max_sub_palindrom)\n",
    "                longest_palindrom = max_sub_palindrom\n",
    "            plus_minus+=1\n",
    "\n",
    "    # 짝수 오른쪽으로\n",
    "    for center_idx in range(start_center_idx+1, len(s)):\n",
    "        if center_idx+1>=len(s) or s[center_idx]!=s[center_idx+1]:\n",
    "            continue\n",
    "        if max_length==1:\n",
    "            max_length=2\n",
    "            longest_palindrom = s[center_idx:center_idx+2]\n",
    "        plus_minus = 1\n",
    "        while(True):\n",
    "            left = center_idx-plus_minus\n",
    "            right = center_idx+1+plus_minus\n",
    "            if left<0 or right>=len(s) or s[left]!=s[right]:\n",
    "                break\n",
    "            \n",
    "            max_sub_palindrom = s[left:right+1]\n",
    "            if len(max_sub_palindrom)>max_length:\n",
    "                max_length = len(max_sub_palindrom)\n",
    "                longest_palindrom = max_sub_palindrom\n",
    "            plus_minus+=1\n",
    "\n",
    "    return longest_palindrom"
   ]
  },
  {
   "cell_type": "code",
   "execution_count": 108,
   "metadata": {},
   "outputs": [
    {
     "name": "stdout",
     "output_type": "stream",
     "text": [
      "center_idx: 1, left: 0, right: 3\n"
     ]
    },
    {
     "data": {
      "text/plain": [
       "'bb'"
      ]
     },
     "execution_count": 108,
     "metadata": {},
     "output_type": "execute_result"
    }
   ],
   "source": [
    "longestPalindrome(test_s)"
   ]
  },
  {
   "cell_type": "code",
   "execution_count": 55,
   "metadata": {},
   "outputs": [
    {
     "name": "stdout",
     "output_type": "stream",
     "text": [
      "10\n",
      "9\n",
      "8\n",
      "7\n",
      "6\n",
      "5\n",
      "4\n",
      "3\n",
      "2\n",
      "1\n"
     ]
    }
   ],
   "source": [
    "for i in range(10, 0, -1):\n",
    "    print(i)"
   ]
  },
  {
   "cell_type": "code",
   "execution_count": null,
   "metadata": {},
   "outputs": [],
   "source": []
  }
 ],
 "metadata": {
  "kernelspec": {
   "display_name": "Python 3",
   "language": "python",
   "name": "python3"
  },
  "language_info": {
   "codemirror_mode": {
    "name": "ipython",
    "version": 3
   },
   "file_extension": ".py",
   "mimetype": "text/x-python",
   "name": "python",
   "nbconvert_exporter": "python",
   "pygments_lexer": "ipython3",
   "version": "3.8.5"
  }
 },
 "nbformat": 4,
 "nbformat_minor": 4
}
