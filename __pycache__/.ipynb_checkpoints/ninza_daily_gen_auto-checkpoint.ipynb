{
 "cells": [
  {
   "cell_type": "code",
   "execution_count": 1,
   "metadata": {},
   "outputs": [],
   "source": [
    "# 이 코드의 목적\n",
    "# 이제부터 daily 연기금 매수/매도 데이터를 쌓아나갈 것\n",
    "\n",
    "# 거래일을 가져오는 과정\n",
    "\n",
    "import FinanceDataReader as fdr\n",
    "import pandas as pd\n",
    "import numpy as np\n",
    "import datetime\n",
    "\n",
    "import sys\n",
    "from PyQt5.QtWidgets import *\n",
    "from kiwoom.kiwoom_auto import *\n",
    "import pickle\n",
    "\n",
    "def auto_gen(gen_idx, list_idx):\n",
    "    kospi_list_df = fdr.StockListing('KOSPI')\n",
    "\n",
    "    test_symbol_list = []\n",
    "    for i in range(5):\n",
    "        test_symbol_list.append(kospi_list_df['Symbol'].values[i])\n",
    "\n",
    "    test_symbol_list\n",
    "\n",
    "    full_date_df = fdr.DataReader(test_symbol_list[1], '2021')\n",
    "\n",
    "    full_date_df\n",
    "\n",
    "    raw_tradingdays = list(full_date_df.index.values)\n",
    "\n",
    "    tradingdays = [int(pd.to_datetime(td).strftime('%Y%m%d')) for td in raw_tradingdays]\n",
    "\n",
    "    app = QApplication(sys.argv)\n",
    "    \n",
    "    save_list = []\n",
    "    \n",
    "    sum_start_date = tradingdays[gen_idx]\n",
    "    sum_end_date = tradingdays[gen_idx]\n",
    "    \n",
    "    for dict_idx in [list_idx]:\n",
    "        stockwise_dict = {}\n",
    "        kiwoom = Kiwoom(save_list)\n",
    "        target_start_date = sum_start_date\n",
    "        target_end_date = sum_end_date\n",
    "        target_price_or_volume = 1 # 금액: 1, 수량: 2\n",
    "        target_net_or_buy_or_sale = 0 # 순매수: 0, 매수: 1, 매도: 2\n",
    "        target_unit_code = 1 # 0: 천 주, 1: 단 주\n",
    "        stock_code_list = kiwoom.get_code_list_by_market('10') # '10'이 코스닥\n",
    "        for idx, target_stock_code in enumerate(stock_code_list):\n",
    "            if dict_idx==1:\n",
    "                if idx>=800:\n",
    "                    break\n",
    "            else:\n",
    "                if idx<800:\n",
    "                    continue\n",
    "            print(str(idx) + '/' + str(len(stock_code_list)) + ' 현재 ' + str(target_stock_code) + '의 매매 데이터를 불러오는 중')\n",
    "            kiwoom.calculator_list = []\n",
    "            kiwoom.get_cummulative_buy_or_sale_of_investor_stockwise(stock_code=target_stock_code, start_date = target_start_date, end_date = target_end_date, price_or_volume = target_price_or_volume, net_or_buy_or_sale = target_net_or_buy_or_sale, unit_code = target_unit_code)\n",
    "            raw_data = kiwoom.calculator_list[0]\n",
    "            parsed_data = [int(rd.strip()) for rd in raw_data]\n",
    "            stockwise_dict[target_stock_code] = parsed_data\n",
    "        with open('./daily_stockwise_dict/daily_stockwise_dict_' + str(sum_start_date) +'_'+str(dict_idx)+'.pickle', 'wb') as f:\n",
    "            pickle.dump(stockwise_dict, f)\n",
    "        #kiwoom.quit()\n",
    "\n",
    "def main(gen_idx, list_idx):\n",
    "    auto_gen(gen_idx=gen_idx, list_idx=list_idx)\n",
    "\n",
    "if __name__ == '_main__':\n",
    "    main(sys.argv[1], sys.argv[2])"
   ]
  },
  {
   "cell_type": "code",
   "execution_count": 16,
   "metadata": {},
   "outputs": [],
   "source": []
  },
  {
   "cell_type": "code",
   "execution_count": 18,
   "metadata": {},
   "outputs": [],
   "source": [
    "# 현재 12까지 성공"
   ]
  },
  {
   "cell_type": "code",
   "execution_count": null,
   "metadata": {},
   "outputs": [],
   "source": []
  }
 ],
 "metadata": {
  "kernelspec": {
   "display_name": "Python 3",
   "language": "python",
   "name": "python3"
  },
  "language_info": {
   "codemirror_mode": {
    "name": "ipython",
    "version": 3
   },
   "file_extension": ".py",
   "mimetype": "text/x-python",
   "name": "python",
   "nbconvert_exporter": "python",
   "pygments_lexer": "ipython3",
   "version": "3.8.5"
  }
 },
 "nbformat": 4,
 "nbformat_minor": 4
}
